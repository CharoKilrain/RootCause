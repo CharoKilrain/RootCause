{
 "cells": [
  {
   "cell_type": "markdown",
   "id": "98ce86ca-e7a1-47a8-b4df-344860db5a4a",
   "metadata": {},
   "source": [
    "## Incident Root Cause Analysis\n",
    "\n",
    "Incident Reports in ITOps usually states the symptoms. Identifying the root cause of the symptom quickly is a key determinant to reducing resolution times and improving user satisfaction."
   ]
  },
  {
   "cell_type": "code",
   "execution_count": 169,
   "id": "99ad1a18-0067-4c9c-a81f-2bfb0d363593",
   "metadata": {},
   "outputs": [],
   "source": [
    "#libraries\n",
    "import pandas as pd\n",
    "import os\n",
    "import tensorflow as tf\n",
    "import numpy as np\n"
   ]
  },
  {
   "cell_type": "code",
   "execution_count": 170,
   "id": "c042e6a7-e382-4dbe-98d6-0a2203f8d97f",
   "metadata": {},
   "outputs": [
    {
     "data": {
      "text/html": [
       "<div>\n",
       "<style scoped>\n",
       "    .dataframe tbody tr th:only-of-type {\n",
       "        vertical-align: middle;\n",
       "    }\n",
       "\n",
       "    .dataframe tbody tr th {\n",
       "        vertical-align: top;\n",
       "    }\n",
       "\n",
       "    .dataframe thead th {\n",
       "        text-align: right;\n",
       "    }\n",
       "</style>\n",
       "<table border=\"1\" class=\"dataframe\">\n",
       "  <thead>\n",
       "    <tr style=\"text-align: right;\">\n",
       "      <th></th>\n",
       "      <th>ID</th>\n",
       "      <th>CPU_LOAD</th>\n",
       "      <th>MEMORY_LEAK_LOAD</th>\n",
       "      <th>DELAY</th>\n",
       "      <th>ERROR_1000</th>\n",
       "      <th>ERROR_1001</th>\n",
       "      <th>ERROR_1002</th>\n",
       "      <th>ERROR_1003</th>\n",
       "      <th>ROOT_CAUSE</th>\n",
       "    </tr>\n",
       "  </thead>\n",
       "  <tbody>\n",
       "    <tr>\n",
       "      <th>0</th>\n",
       "      <td>1</td>\n",
       "      <td>0</td>\n",
       "      <td>0</td>\n",
       "      <td>0</td>\n",
       "      <td>0</td>\n",
       "      <td>1</td>\n",
       "      <td>0</td>\n",
       "      <td>1</td>\n",
       "      <td>MEMORY_LEAK</td>\n",
       "    </tr>\n",
       "    <tr>\n",
       "      <th>1</th>\n",
       "      <td>2</td>\n",
       "      <td>0</td>\n",
       "      <td>0</td>\n",
       "      <td>0</td>\n",
       "      <td>0</td>\n",
       "      <td>0</td>\n",
       "      <td>0</td>\n",
       "      <td>1</td>\n",
       "      <td>MEMORY_LEAK</td>\n",
       "    </tr>\n",
       "    <tr>\n",
       "      <th>2</th>\n",
       "      <td>3</td>\n",
       "      <td>0</td>\n",
       "      <td>1</td>\n",
       "      <td>1</td>\n",
       "      <td>0</td>\n",
       "      <td>0</td>\n",
       "      <td>1</td>\n",
       "      <td>1</td>\n",
       "      <td>MEMORY_LEAK</td>\n",
       "    </tr>\n",
       "    <tr>\n",
       "      <th>3</th>\n",
       "      <td>4</td>\n",
       "      <td>0</td>\n",
       "      <td>1</td>\n",
       "      <td>0</td>\n",
       "      <td>1</td>\n",
       "      <td>1</td>\n",
       "      <td>0</td>\n",
       "      <td>1</td>\n",
       "      <td>MEMORY_LEAK</td>\n",
       "    </tr>\n",
       "    <tr>\n",
       "      <th>4</th>\n",
       "      <td>5</td>\n",
       "      <td>1</td>\n",
       "      <td>1</td>\n",
       "      <td>0</td>\n",
       "      <td>1</td>\n",
       "      <td>0</td>\n",
       "      <td>1</td>\n",
       "      <td>0</td>\n",
       "      <td>NETWORK_DELAY</td>\n",
       "    </tr>\n",
       "  </tbody>\n",
       "</table>\n",
       "</div>"
      ],
      "text/plain": [
       "   ID  CPU_LOAD  MEMORY_LEAK_LOAD  DELAY  ERROR_1000  ERROR_1001  ERROR_1002  \\\n",
       "0   1         0                 0      0           0           1           0   \n",
       "1   2         0                 0      0           0           0           0   \n",
       "2   3         0                 1      1           0           0           1   \n",
       "3   4         0                 1      0           1           1           0   \n",
       "4   5         1                 1      0           1           0           1   \n",
       "\n",
       "   ERROR_1003     ROOT_CAUSE  \n",
       "0           1    MEMORY_LEAK  \n",
       "1           1    MEMORY_LEAK  \n",
       "2           1    MEMORY_LEAK  \n",
       "3           1    MEMORY_LEAK  \n",
       "4           0  NETWORK_DELAY  "
      ]
     },
     "execution_count": 170,
     "metadata": {},
     "output_type": "execute_result"
    }
   ],
   "source": [
    "#dataset\n",
    "df=pd.read_csv('root_cause_analysis.csv')\n",
    "df.head()"
   ]
  },
  {
   "cell_type": "code",
   "execution_count": 171,
   "id": "d97111e1-74d6-46e9-9d8c-dad33646ead4",
   "metadata": {},
   "outputs": [
    {
     "data": {
      "text/plain": [
       "array(['MEMORY_LEAK', 'NETWORK_DELAY', 'DATABASE_ISSUE'], dtype=object)"
      ]
     },
     "execution_count": 171,
     "metadata": {},
     "output_type": "execute_result"
    }
   ],
   "source": [
    "df['ROOT_CAUSE'].unique()"
   ]
  },
  {
   "cell_type": "code",
   "execution_count": 172,
   "id": "ce1129ba-614a-4b8a-ae4f-5cf283a2256e",
   "metadata": {},
   "outputs": [
    {
     "data": {
      "text/html": [
       "<div>\n",
       "<style scoped>\n",
       "    .dataframe tbody tr th:only-of-type {\n",
       "        vertical-align: middle;\n",
       "    }\n",
       "\n",
       "    .dataframe tbody tr th {\n",
       "        vertical-align: top;\n",
       "    }\n",
       "\n",
       "    .dataframe thead th {\n",
       "        text-align: right;\n",
       "    }\n",
       "</style>\n",
       "<table border=\"1\" class=\"dataframe\">\n",
       "  <thead>\n",
       "    <tr style=\"text-align: right;\">\n",
       "      <th></th>\n",
       "      <th>ID</th>\n",
       "      <th>CPU_LOAD</th>\n",
       "      <th>MEMORY_LEAK_LOAD</th>\n",
       "      <th>DELAY</th>\n",
       "      <th>ERROR_1000</th>\n",
       "      <th>ERROR_1001</th>\n",
       "      <th>ERROR_1002</th>\n",
       "      <th>ERROR_1003</th>\n",
       "      <th>ROOT_CAUSE</th>\n",
       "    </tr>\n",
       "  </thead>\n",
       "  <tbody>\n",
       "    <tr>\n",
       "      <th>597</th>\n",
       "      <td>598</td>\n",
       "      <td>1</td>\n",
       "      <td>1</td>\n",
       "      <td>1</td>\n",
       "      <td>0</td>\n",
       "      <td>0</td>\n",
       "      <td>0</td>\n",
       "      <td>0</td>\n",
       "      <td>MEMORY_LEAK</td>\n",
       "    </tr>\n",
       "  </tbody>\n",
       "</table>\n",
       "</div>"
      ],
      "text/plain": [
       "      ID  CPU_LOAD  MEMORY_LEAK_LOAD  DELAY  ERROR_1000  ERROR_1001  \\\n",
       "597  598         1                 1      1           0           0   \n",
       "\n",
       "     ERROR_1002  ERROR_1003   ROOT_CAUSE  \n",
       "597           0           0  MEMORY_LEAK  "
      ]
     },
     "execution_count": 172,
     "metadata": {},
     "output_type": "execute_result"
    }
   ],
   "source": [
    "df.sample()"
   ]
  },
  {
   "cell_type": "code",
   "execution_count": 173,
   "id": "cbe2e37e-e41b-4c23-8cf1-9136ff65a934",
   "metadata": {},
   "outputs": [
    {
     "data": {
      "text/html": [
       "<div>\n",
       "<style scoped>\n",
       "    .dataframe tbody tr th:only-of-type {\n",
       "        vertical-align: middle;\n",
       "    }\n",
       "\n",
       "    .dataframe tbody tr th {\n",
       "        vertical-align: top;\n",
       "    }\n",
       "\n",
       "    .dataframe thead th {\n",
       "        text-align: right;\n",
       "    }\n",
       "</style>\n",
       "<table border=\"1\" class=\"dataframe\">\n",
       "  <thead>\n",
       "    <tr style=\"text-align: right;\">\n",
       "      <th></th>\n",
       "      <th>CPU_LOAD</th>\n",
       "      <th>MEMORY_LEAK_LOAD</th>\n",
       "      <th>DELAY</th>\n",
       "      <th>ERROR_1000</th>\n",
       "      <th>ERROR_1001</th>\n",
       "      <th>ERROR_1002</th>\n",
       "      <th>ERROR_1003</th>\n",
       "    </tr>\n",
       "  </thead>\n",
       "  <tbody>\n",
       "    <tr>\n",
       "      <th>0</th>\n",
       "      <td>0</td>\n",
       "      <td>0</td>\n",
       "      <td>0</td>\n",
       "      <td>0</td>\n",
       "      <td>1</td>\n",
       "      <td>0</td>\n",
       "      <td>1</td>\n",
       "    </tr>\n",
       "    <tr>\n",
       "      <th>1</th>\n",
       "      <td>0</td>\n",
       "      <td>0</td>\n",
       "      <td>0</td>\n",
       "      <td>0</td>\n",
       "      <td>0</td>\n",
       "      <td>0</td>\n",
       "      <td>1</td>\n",
       "    </tr>\n",
       "    <tr>\n",
       "      <th>2</th>\n",
       "      <td>0</td>\n",
       "      <td>1</td>\n",
       "      <td>1</td>\n",
       "      <td>0</td>\n",
       "      <td>0</td>\n",
       "      <td>1</td>\n",
       "      <td>1</td>\n",
       "    </tr>\n",
       "    <tr>\n",
       "      <th>3</th>\n",
       "      <td>0</td>\n",
       "      <td>1</td>\n",
       "      <td>0</td>\n",
       "      <td>1</td>\n",
       "      <td>1</td>\n",
       "      <td>0</td>\n",
       "      <td>1</td>\n",
       "    </tr>\n",
       "    <tr>\n",
       "      <th>4</th>\n",
       "      <td>1</td>\n",
       "      <td>1</td>\n",
       "      <td>0</td>\n",
       "      <td>1</td>\n",
       "      <td>0</td>\n",
       "      <td>1</td>\n",
       "      <td>0</td>\n",
       "    </tr>\n",
       "  </tbody>\n",
       "</table>\n",
       "</div>"
      ],
      "text/plain": [
       "   CPU_LOAD  MEMORY_LEAK_LOAD  DELAY  ERROR_1000  ERROR_1001  ERROR_1002  \\\n",
       "0         0                 0      0           0           1           0   \n",
       "1         0                 0      0           0           0           0   \n",
       "2         0                 1      1           0           0           1   \n",
       "3         0                 1      0           1           1           0   \n",
       "4         1                 1      0           1           0           1   \n",
       "\n",
       "   ERROR_1003  \n",
       "0           1  \n",
       "1           1  \n",
       "2           1  \n",
       "3           1  \n",
       "4           0  "
      ]
     },
     "execution_count": 173,
     "metadata": {},
     "output_type": "execute_result"
    }
   ],
   "source": [
    "X_data=df.drop(['ROOT_CAUSE', 'ID'], axis=1)\n",
    "X_data.head()"
   ]
  },
  {
   "cell_type": "code",
   "execution_count": 174,
   "id": "c1730f89-7a24-42a8-b1fc-f8c730f6dbe1",
   "metadata": {},
   "outputs": [],
   "source": [
    "X1_data=X_data.to_numpy().astype(float)"
   ]
  },
  {
   "cell_type": "code",
   "execution_count": 175,
   "id": "9fd62f9e-8da0-411c-b2f1-9e4abb30b830",
   "metadata": {},
   "outputs": [
    {
     "data": {
      "text/plain": [
       "1000"
      ]
     },
     "execution_count": 175,
     "metadata": {},
     "output_type": "execute_result"
    }
   ],
   "source": [
    "len(X1_data)"
   ]
  },
  {
   "cell_type": "code",
   "execution_count": 176,
   "id": "c13cddee-a3f9-42b4-a909-258a3af73a68",
   "metadata": {},
   "outputs": [
    {
     "name": "stdout",
     "output_type": "stream",
     "text": [
      "[0. 0. 1. 1. 0. 0. 0.]\n"
     ]
    }
   ],
   "source": [
    "print(X1_data[5,:])"
   ]
  },
  {
   "cell_type": "code",
   "execution_count": 177,
   "id": "9cf4d743-f6a7-4c8c-86ec-6132d54dc24c",
   "metadata": {},
   "outputs": [
    {
     "data": {
      "text/plain": [
       "0      MEMORY_LEAK\n",
       "1      MEMORY_LEAK\n",
       "2      MEMORY_LEAK\n",
       "3      MEMORY_LEAK\n",
       "4    NETWORK_DELAY\n",
       "Name: ROOT_CAUSE, dtype: object"
      ]
     },
     "execution_count": 177,
     "metadata": {},
     "output_type": "execute_result"
    }
   ],
   "source": [
    "y_data=df['ROOT_CAUSE']\n",
    "y_data.head()"
   ]
  },
  {
   "cell_type": "code",
   "execution_count": 178,
   "id": "e32a6fa5-dbf1-42db-aa93-3c4b8f39c526",
   "metadata": {},
   "outputs": [],
   "source": [
    "from sklearn import preprocessing\n",
    "from sklearn.model_selection import train_test_split"
   ]
  },
  {
   "cell_type": "code",
   "execution_count": 179,
   "id": "3b89e8aa-ae29-4f53-8387-98a1069055e4",
   "metadata": {},
   "outputs": [],
   "source": [
    "labelencoder=preprocessing.LabelEncoder()"
   ]
  },
  {
   "cell_type": "code",
   "execution_count": 180,
   "id": "4444ba07-449f-4058-ad70-52b8fa45e85d",
   "metadata": {},
   "outputs": [
    {
     "data": {
      "text/plain": [
       "1000"
      ]
     },
     "execution_count": 180,
     "metadata": {},
     "output_type": "execute_result"
    }
   ],
   "source": [
    "y_data=labelencoder.fit_transform(y_data)\n",
    "len(y_data)\n"
   ]
  },
  {
   "cell_type": "code",
   "execution_count": 181,
   "id": "9d23a0c7-6e38-4bee-b52e-b7f5053ec9c9",
   "metadata": {},
   "outputs": [
    {
     "name": "stdout",
     "output_type": "stream",
     "text": [
      "[1 1 1 1 2]\n"
     ]
    }
   ],
   "source": [
    "print(y_data[:5])"
   ]
  },
  {
   "cell_type": "code",
   "execution_count": 182,
   "id": "103b237c-dacd-42de-8cc5-5c01a94a8c42",
   "metadata": {},
   "outputs": [
    {
     "data": {
      "text/plain": [
       "(1000, 3)"
      ]
     },
     "execution_count": 182,
     "metadata": {},
     "output_type": "execute_result"
    }
   ],
   "source": [
    "Y1_data=tf.keras.utils.to_categorical(y_data, 3)\n",
    "Y1_data.shape"
   ]
  },
  {
   "cell_type": "code",
   "execution_count": 183,
   "id": "1a4c34ba-eeff-4455-a788-493018f2fcc0",
   "metadata": {},
   "outputs": [
    {
     "name": "stdout",
     "output_type": "stream",
     "text": [
      "[[0. 1. 0.]\n",
      " [0. 1. 0.]\n",
      " [0. 1. 0.]\n",
      " [0. 1. 0.]\n",
      " [0. 0. 1.]]\n"
     ]
    }
   ],
   "source": [
    "print(Y1_data[0:5])"
   ]
  },
  {
   "cell_type": "code",
   "execution_count": 184,
   "id": "3ff9bc9d-4aa9-4a89-b3c5-123be1f87f30",
   "metadata": {},
   "outputs": [
    {
     "data": {
      "text/plain": [
       "1000"
      ]
     },
     "execution_count": 184,
     "metadata": {},
     "output_type": "execute_result"
    }
   ],
   "source": [
    "len(Y1_data)"
   ]
  },
  {
   "cell_type": "code",
   "execution_count": 185,
   "id": "ae297817-8114-47e5-8a77-f272d51877ec",
   "metadata": {},
   "outputs": [],
   "source": [
    "#split data\n",
    "\n",
    "x_train, x_test, y_train, y_test= train_test_split(X1_data, Y1_data, test_size=0.1)"
   ]
  },
  {
   "cell_type": "code",
   "execution_count": 186,
   "id": "4d8ab0fe-f9c8-4be4-a3e8-c6ff740018a0",
   "metadata": {},
   "outputs": [
    {
     "name": "stdout",
     "output_type": "stream",
     "text": [
      "(900, 7) (900, 3)\n",
      "(100, 7) (100, 3)\n"
     ]
    }
   ],
   "source": [
    "print(x_train.shape, y_train.shape)\n",
    "print(x_test.shape, y_test.shape)"
   ]
  },
  {
   "cell_type": "code",
   "execution_count": 187,
   "id": "70c7b05f-7a8a-42a0-8947-ea58ec4c3c67",
   "metadata": {},
   "outputs": [
    {
     "name": "stdout",
     "output_type": "stream",
     "text": [
      "x_train shape: (900, 7)\n",
      "y_train shape: (900, 3)\n"
     ]
    }
   ],
   "source": [
    "print(\"x_train shape:\", x_train.shape)\n",
    "print(\"y_train shape:\", y_train.shape)"
   ]
  },
  {
   "cell_type": "code",
   "execution_count": 188,
   "id": "769e5141-3aa2-41d8-8683-be918ab5c44d",
   "metadata": {},
   "outputs": [],
   "source": [
    "#create a ANN model -structured model\n",
    "\n",
    "from tensorflow import keras\n",
    "from tensorflow.keras import optimizers\n",
    "from tensorflow.keras.regularizers import l2"
   ]
  },
  {
   "cell_type": "code",
   "execution_count": 191,
   "id": "a64e0c69-f97b-4b8d-aef6-05e676ca1891",
   "metadata": {},
   "outputs": [
    {
     "name": "stdout",
     "output_type": "stream",
     "text": [
      "Model: \"sequential_9\"\n",
      "_________________________________________________________________\n",
      " Layer (type)                Output Shape              Param #   \n",
      "=================================================================\n",
      " layer1 (Dense)              (None, 128)               1024      \n",
      "                                                                 \n",
      " layer2 (Dense)              (None, 128)               16512     \n",
      "                                                                 \n",
      " layer3 (Dense)              (None, 128)               16512     \n",
      "                                                                 \n",
      " output_layer (Dense)        (None, 3)                 387       \n",
      "                                                                 \n",
      "=================================================================\n",
      "Total params: 34435 (134.51 KB)\n",
      "Trainable params: 34435 (134.51 KB)\n",
      "Non-trainable params: 0 (0.00 Byte)\n",
      "_________________________________________________________________\n"
     ]
    }
   ],
   "source": [
    "verbose=1\n",
    "output_classes=len(label_encoder.classes_)\n",
    "validation_split=0.2\n",
    "hidden=128\n",
    "\n",
    "model=tf.keras.models.Sequential()\n",
    "#first layer\n",
    "model.add(keras.layers.Dense(hidden,input_shape=(7,),name=\"layer1\", activation='relu'))\n",
    "#2 layer\n",
    "model.add(keras.layers.Dense(hidden,name=\"layer2\", activation='relu'))   \n",
    "#layer3\n",
    "model.add(keras.layers.Dense(hidden,name=\"layer3\", activation='relu')) \n",
    "#output layer         \n",
    "model.add(keras.layers.Dense(output_classes,name=\"output_layer\", activation='softmax'))          \n",
    "model.compile(loss=\"categorical_crossentropy\", metrics=['accuracy'])\n",
    "model.summary()\n",
    "                             "
   ]
  },
  {
   "cell_type": "code",
   "execution_count": 206,
   "id": "6b835a38-65c0-433d-b4f6-d1f78fcb7742",
   "metadata": {},
   "outputs": [
    {
     "name": "stdout",
     "output_type": "stream",
     "text": [
      "Epoch 1/30\n",
      "3/3 [==============================] - 0s 47ms/step - loss: 0.2829 - accuracy: 0.8625 - val_loss: 0.3429 - val_accuracy: 0.8667\n",
      "Epoch 2/30\n",
      "3/3 [==============================] - 0s 30ms/step - loss: 0.3052 - accuracy: 0.8597 - val_loss: 0.3796 - val_accuracy: 0.8500\n",
      "Epoch 3/30\n",
      "3/3 [==============================] - 0s 26ms/step - loss: 0.2892 - accuracy: 0.8556 - val_loss: 0.3578 - val_accuracy: 0.8611\n",
      "Epoch 4/30\n",
      "3/3 [==============================] - 0s 26ms/step - loss: 0.2878 - accuracy: 0.8681 - val_loss: 0.3791 - val_accuracy: 0.8556\n",
      "Epoch 5/30\n",
      "3/3 [==============================] - 0s 25ms/step - loss: 0.2874 - accuracy: 0.8653 - val_loss: 0.3694 - val_accuracy: 0.8556\n",
      "Epoch 6/30\n",
      "3/3 [==============================] - 0s 30ms/step - loss: 0.2862 - accuracy: 0.8611 - val_loss: 0.3999 - val_accuracy: 0.8444\n",
      "Epoch 7/30\n",
      "3/3 [==============================] - 0s 28ms/step - loss: 0.2935 - accuracy: 0.8597 - val_loss: 0.3524 - val_accuracy: 0.8778\n",
      "Epoch 8/30\n",
      "3/3 [==============================] - 0s 28ms/step - loss: 0.2961 - accuracy: 0.8569 - val_loss: 0.3484 - val_accuracy: 0.8722\n",
      "Epoch 9/30\n",
      "3/3 [==============================] - 0s 25ms/step - loss: 0.2849 - accuracy: 0.8667 - val_loss: 0.3539 - val_accuracy: 0.8667\n",
      "Epoch 10/30\n",
      "3/3 [==============================] - 0s 26ms/step - loss: 0.2809 - accuracy: 0.8583 - val_loss: 0.3561 - val_accuracy: 0.8667\n",
      "Epoch 11/30\n",
      "3/3 [==============================] - 0s 22ms/step - loss: 0.2795 - accuracy: 0.8681 - val_loss: 0.3720 - val_accuracy: 0.8556\n",
      "Epoch 12/30\n",
      "3/3 [==============================] - 0s 25ms/step - loss: 0.2857 - accuracy: 0.8694 - val_loss: 0.3657 - val_accuracy: 0.8611\n",
      "Epoch 13/30\n",
      "3/3 [==============================] - 0s 25ms/step - loss: 0.2752 - accuracy: 0.8694 - val_loss: 0.3565 - val_accuracy: 0.8722\n",
      "Epoch 14/30\n",
      "3/3 [==============================] - 0s 33ms/step - loss: 0.2872 - accuracy: 0.8639 - val_loss: 0.4452 - val_accuracy: 0.8222\n",
      "Epoch 15/30\n",
      "3/3 [==============================] - 0s 24ms/step - loss: 0.2953 - accuracy: 0.8583 - val_loss: 0.3699 - val_accuracy: 0.8500\n",
      "Epoch 16/30\n",
      "3/3 [==============================] - 0s 24ms/step - loss: 0.2803 - accuracy: 0.8597 - val_loss: 0.3546 - val_accuracy: 0.8722\n",
      "Epoch 17/30\n",
      "3/3 [==============================] - 0s 25ms/step - loss: 0.2914 - accuracy: 0.8611 - val_loss: 0.3465 - val_accuracy: 0.8722\n",
      "Epoch 18/30\n",
      "3/3 [==============================] - 0s 28ms/step - loss: 0.2806 - accuracy: 0.8583 - val_loss: 0.4105 - val_accuracy: 0.8444\n",
      "Epoch 19/30\n",
      "3/3 [==============================] - 0s 24ms/step - loss: 0.2849 - accuracy: 0.8653 - val_loss: 0.3560 - val_accuracy: 0.8556\n",
      "Epoch 20/30\n",
      "3/3 [==============================] - 0s 24ms/step - loss: 0.2824 - accuracy: 0.8625 - val_loss: 0.4094 - val_accuracy: 0.8333\n",
      "Epoch 21/30\n",
      "3/3 [==============================] - 0s 25ms/step - loss: 0.2895 - accuracy: 0.8667 - val_loss: 0.3597 - val_accuracy: 0.8667\n",
      "Epoch 22/30\n",
      "3/3 [==============================] - 0s 24ms/step - loss: 0.2787 - accuracy: 0.8583 - val_loss: 0.3680 - val_accuracy: 0.8556\n",
      "Epoch 23/30\n",
      "3/3 [==============================] - 0s 25ms/step - loss: 0.2902 - accuracy: 0.8583 - val_loss: 0.3653 - val_accuracy: 0.8500\n",
      "Epoch 24/30\n",
      "3/3 [==============================] - 0s 25ms/step - loss: 0.2801 - accuracy: 0.8597 - val_loss: 0.3494 - val_accuracy: 0.8778\n",
      "Epoch 25/30\n",
      "3/3 [==============================] - 0s 26ms/step - loss: 0.2893 - accuracy: 0.8542 - val_loss: 0.3591 - val_accuracy: 0.8611\n",
      "Epoch 26/30\n",
      "3/3 [==============================] - 0s 58ms/step - loss: 0.2762 - accuracy: 0.8667 - val_loss: 0.3512 - val_accuracy: 0.8611\n",
      "Epoch 27/30\n",
      "3/3 [==============================] - 0s 26ms/step - loss: 0.2804 - accuracy: 0.8708 - val_loss: 0.3609 - val_accuracy: 0.8556\n",
      "Epoch 28/30\n",
      "3/3 [==============================] - 0s 22ms/step - loss: 0.2915 - accuracy: 0.8597 - val_loss: 0.3488 - val_accuracy: 0.8722\n",
      "Epoch 29/30\n",
      "3/3 [==============================] - 0s 23ms/step - loss: 0.2751 - accuracy: 0.8708 - val_loss: 0.3467 - val_accuracy: 0.8833\n",
      "Epoch 30/30\n",
      "3/3 [==============================] - 0s 33ms/step - loss: 0.2782 - accuracy: 0.8639 - val_loss: 0.3995 - val_accuracy: 0.8556\n"
     ]
    }
   ],
   "source": [
    "batch=300\n",
    "epoch=30\n",
    "history=model.fit(x_train, y_train, batch_size=batch, epochs=epoch,verbose=verbose,validation_split=0.2)\n"
   ]
  },
  {
   "cell_type": "code",
   "execution_count": 207,
   "id": "3f6b4c3f-0c58-491f-b468-9044b83bf300",
   "metadata": {},
   "outputs": [
    {
     "data": {
      "text/html": [
       "<div>\n",
       "<style scoped>\n",
       "    .dataframe tbody tr th:only-of-type {\n",
       "        vertical-align: middle;\n",
       "    }\n",
       "\n",
       "    .dataframe tbody tr th {\n",
       "        vertical-align: top;\n",
       "    }\n",
       "\n",
       "    .dataframe thead th {\n",
       "        text-align: right;\n",
       "    }\n",
       "</style>\n",
       "<table border=\"1\" class=\"dataframe\">\n",
       "  <thead>\n",
       "    <tr style=\"text-align: right;\">\n",
       "      <th></th>\n",
       "      <th>loss</th>\n",
       "      <th>accuracy</th>\n",
       "      <th>val_loss</th>\n",
       "      <th>val_accuracy</th>\n",
       "    </tr>\n",
       "  </thead>\n",
       "  <tbody>\n",
       "    <tr>\n",
       "      <th>0</th>\n",
       "      <td>0.282917</td>\n",
       "      <td>0.862500</td>\n",
       "      <td>0.342894</td>\n",
       "      <td>0.866667</td>\n",
       "    </tr>\n",
       "    <tr>\n",
       "      <th>1</th>\n",
       "      <td>0.305225</td>\n",
       "      <td>0.859722</td>\n",
       "      <td>0.379610</td>\n",
       "      <td>0.850000</td>\n",
       "    </tr>\n",
       "    <tr>\n",
       "      <th>2</th>\n",
       "      <td>0.289224</td>\n",
       "      <td>0.855556</td>\n",
       "      <td>0.357770</td>\n",
       "      <td>0.861111</td>\n",
       "    </tr>\n",
       "    <tr>\n",
       "      <th>3</th>\n",
       "      <td>0.287774</td>\n",
       "      <td>0.868056</td>\n",
       "      <td>0.379113</td>\n",
       "      <td>0.855556</td>\n",
       "    </tr>\n",
       "    <tr>\n",
       "      <th>4</th>\n",
       "      <td>0.287431</td>\n",
       "      <td>0.865278</td>\n",
       "      <td>0.369365</td>\n",
       "      <td>0.855556</td>\n",
       "    </tr>\n",
       "    <tr>\n",
       "      <th>5</th>\n",
       "      <td>0.286187</td>\n",
       "      <td>0.861111</td>\n",
       "      <td>0.399879</td>\n",
       "      <td>0.844444</td>\n",
       "    </tr>\n",
       "    <tr>\n",
       "      <th>6</th>\n",
       "      <td>0.293507</td>\n",
       "      <td>0.859722</td>\n",
       "      <td>0.352371</td>\n",
       "      <td>0.877778</td>\n",
       "    </tr>\n",
       "    <tr>\n",
       "      <th>7</th>\n",
       "      <td>0.296083</td>\n",
       "      <td>0.856944</td>\n",
       "      <td>0.348409</td>\n",
       "      <td>0.872222</td>\n",
       "    </tr>\n",
       "    <tr>\n",
       "      <th>8</th>\n",
       "      <td>0.284856</td>\n",
       "      <td>0.866667</td>\n",
       "      <td>0.353907</td>\n",
       "      <td>0.866667</td>\n",
       "    </tr>\n",
       "    <tr>\n",
       "      <th>9</th>\n",
       "      <td>0.280867</td>\n",
       "      <td>0.858333</td>\n",
       "      <td>0.356088</td>\n",
       "      <td>0.866667</td>\n",
       "    </tr>\n",
       "    <tr>\n",
       "      <th>10</th>\n",
       "      <td>0.279497</td>\n",
       "      <td>0.868056</td>\n",
       "      <td>0.372000</td>\n",
       "      <td>0.855556</td>\n",
       "    </tr>\n",
       "    <tr>\n",
       "      <th>11</th>\n",
       "      <td>0.285725</td>\n",
       "      <td>0.869444</td>\n",
       "      <td>0.365727</td>\n",
       "      <td>0.861111</td>\n",
       "    </tr>\n",
       "    <tr>\n",
       "      <th>12</th>\n",
       "      <td>0.275237</td>\n",
       "      <td>0.869444</td>\n",
       "      <td>0.356512</td>\n",
       "      <td>0.872222</td>\n",
       "    </tr>\n",
       "    <tr>\n",
       "      <th>13</th>\n",
       "      <td>0.287225</td>\n",
       "      <td>0.863889</td>\n",
       "      <td>0.445191</td>\n",
       "      <td>0.822222</td>\n",
       "    </tr>\n",
       "    <tr>\n",
       "      <th>14</th>\n",
       "      <td>0.295338</td>\n",
       "      <td>0.858333</td>\n",
       "      <td>0.369866</td>\n",
       "      <td>0.850000</td>\n",
       "    </tr>\n",
       "    <tr>\n",
       "      <th>15</th>\n",
       "      <td>0.280274</td>\n",
       "      <td>0.859722</td>\n",
       "      <td>0.354624</td>\n",
       "      <td>0.872222</td>\n",
       "    </tr>\n",
       "    <tr>\n",
       "      <th>16</th>\n",
       "      <td>0.291352</td>\n",
       "      <td>0.861111</td>\n",
       "      <td>0.346546</td>\n",
       "      <td>0.872222</td>\n",
       "    </tr>\n",
       "    <tr>\n",
       "      <th>17</th>\n",
       "      <td>0.280558</td>\n",
       "      <td>0.858333</td>\n",
       "      <td>0.410484</td>\n",
       "      <td>0.844444</td>\n",
       "    </tr>\n",
       "    <tr>\n",
       "      <th>18</th>\n",
       "      <td>0.284928</td>\n",
       "      <td>0.865278</td>\n",
       "      <td>0.355952</td>\n",
       "      <td>0.855556</td>\n",
       "    </tr>\n",
       "    <tr>\n",
       "      <th>19</th>\n",
       "      <td>0.282373</td>\n",
       "      <td>0.862500</td>\n",
       "      <td>0.409423</td>\n",
       "      <td>0.833333</td>\n",
       "    </tr>\n",
       "    <tr>\n",
       "      <th>20</th>\n",
       "      <td>0.289451</td>\n",
       "      <td>0.866667</td>\n",
       "      <td>0.359674</td>\n",
       "      <td>0.866667</td>\n",
       "    </tr>\n",
       "    <tr>\n",
       "      <th>21</th>\n",
       "      <td>0.278731</td>\n",
       "      <td>0.858333</td>\n",
       "      <td>0.367954</td>\n",
       "      <td>0.855556</td>\n",
       "    </tr>\n",
       "    <tr>\n",
       "      <th>22</th>\n",
       "      <td>0.290207</td>\n",
       "      <td>0.858333</td>\n",
       "      <td>0.365322</td>\n",
       "      <td>0.850000</td>\n",
       "    </tr>\n",
       "    <tr>\n",
       "      <th>23</th>\n",
       "      <td>0.280112</td>\n",
       "      <td>0.859722</td>\n",
       "      <td>0.349372</td>\n",
       "      <td>0.877778</td>\n",
       "    </tr>\n",
       "    <tr>\n",
       "      <th>24</th>\n",
       "      <td>0.289278</td>\n",
       "      <td>0.854167</td>\n",
       "      <td>0.359084</td>\n",
       "      <td>0.861111</td>\n",
       "    </tr>\n",
       "    <tr>\n",
       "      <th>25</th>\n",
       "      <td>0.276199</td>\n",
       "      <td>0.866667</td>\n",
       "      <td>0.351246</td>\n",
       "      <td>0.861111</td>\n",
       "    </tr>\n",
       "    <tr>\n",
       "      <th>26</th>\n",
       "      <td>0.280403</td>\n",
       "      <td>0.870833</td>\n",
       "      <td>0.360891</td>\n",
       "      <td>0.855556</td>\n",
       "    </tr>\n",
       "    <tr>\n",
       "      <th>27</th>\n",
       "      <td>0.291522</td>\n",
       "      <td>0.859722</td>\n",
       "      <td>0.348779</td>\n",
       "      <td>0.872222</td>\n",
       "    </tr>\n",
       "    <tr>\n",
       "      <th>28</th>\n",
       "      <td>0.275119</td>\n",
       "      <td>0.870833</td>\n",
       "      <td>0.346659</td>\n",
       "      <td>0.883333</td>\n",
       "    </tr>\n",
       "    <tr>\n",
       "      <th>29</th>\n",
       "      <td>0.278180</td>\n",
       "      <td>0.863889</td>\n",
       "      <td>0.399478</td>\n",
       "      <td>0.855556</td>\n",
       "    </tr>\n",
       "  </tbody>\n",
       "</table>\n",
       "</div>"
      ],
      "text/plain": [
       "        loss  accuracy  val_loss  val_accuracy\n",
       "0   0.282917  0.862500  0.342894      0.866667\n",
       "1   0.305225  0.859722  0.379610      0.850000\n",
       "2   0.289224  0.855556  0.357770      0.861111\n",
       "3   0.287774  0.868056  0.379113      0.855556\n",
       "4   0.287431  0.865278  0.369365      0.855556\n",
       "5   0.286187  0.861111  0.399879      0.844444\n",
       "6   0.293507  0.859722  0.352371      0.877778\n",
       "7   0.296083  0.856944  0.348409      0.872222\n",
       "8   0.284856  0.866667  0.353907      0.866667\n",
       "9   0.280867  0.858333  0.356088      0.866667\n",
       "10  0.279497  0.868056  0.372000      0.855556\n",
       "11  0.285725  0.869444  0.365727      0.861111\n",
       "12  0.275237  0.869444  0.356512      0.872222\n",
       "13  0.287225  0.863889  0.445191      0.822222\n",
       "14  0.295338  0.858333  0.369866      0.850000\n",
       "15  0.280274  0.859722  0.354624      0.872222\n",
       "16  0.291352  0.861111  0.346546      0.872222\n",
       "17  0.280558  0.858333  0.410484      0.844444\n",
       "18  0.284928  0.865278  0.355952      0.855556\n",
       "19  0.282373  0.862500  0.409423      0.833333\n",
       "20  0.289451  0.866667  0.359674      0.866667\n",
       "21  0.278731  0.858333  0.367954      0.855556\n",
       "22  0.290207  0.858333  0.365322      0.850000\n",
       "23  0.280112  0.859722  0.349372      0.877778\n",
       "24  0.289278  0.854167  0.359084      0.861111\n",
       "25  0.276199  0.866667  0.351246      0.861111\n",
       "26  0.280403  0.870833  0.360891      0.855556\n",
       "27  0.291522  0.859722  0.348779      0.872222\n",
       "28  0.275119  0.870833  0.346659      0.883333\n",
       "29  0.278180  0.863889  0.399478      0.855556"
      ]
     },
     "execution_count": 207,
     "metadata": {},
     "output_type": "execute_result"
    }
   ],
   "source": [
    "h=pd.DataFrame(history.history)\n",
    "h"
   ]
  },
  {
   "cell_type": "code",
   "execution_count": 208,
   "id": "485cefe7-bcbe-489d-895e-07da2204f099",
   "metadata": {},
   "outputs": [
    {
     "data": {
      "image/png": "[encoded data removed]",
      "text/plain": [
       "<Figure size 800x500 with 1 Axes>"
      ]
     },
     "metadata": {},
     "output_type": "display_data"
    }
   ],
   "source": [
    "import matplotlib.pyplot as plt\n",
    "h['accuracy'].plot(figsize=(8,5), color=\"g\")\n",
    "plt.title (\"accuracy per epoch\")\n",
    "plt.grid()\n",
    "plt.show()"
   ]
  },
  {
   "cell_type": "code",
   "execution_count": 199,
   "id": "9530dc22-5505-4d7f-ae85-dd71706ccc96",
   "metadata": {},
   "outputs": [
    {
     "name": "stdout",
     "output_type": "stream",
     "text": [
      "4/4 [==============================] - 0s 4ms/step - loss: 0.4059 - accuracy: 0.8300\n"
     ]
    },
    {
     "data": {
      "text/plain": [
       "[0.4058540463447571, 0.8299999833106995]"
      ]
     },
     "execution_count": 199,
     "metadata": {},
     "output_type": "execute_result"
    }
   ],
   "source": [
    "model.evaluate(x_test, y_test)"
   ]
  },
  {
   "cell_type": "code",
   "execution_count": 216,
   "id": "8b423559-20bb-4cb0-8a8c-8fb084c94053",
   "metadata": {},
   "outputs": [
    {
     "name": "stdout",
     "output_type": "stream",
     "text": [
      "1/1 [==============================] - 0s 63ms/step\n"
     ]
    }
   ],
   "source": [
    "#prediction Pass individual flags to Predict the root cause\n",
    "import numpy as np\n",
    "\n",
    "CPU_LOAD=0\n",
    "MEMORY_LOAD=0\n",
    "DELAY=1\n",
    "ERROR_1000=0\n",
    "ERROR_1001=0\n",
    "ERROR_1002=1\n",
    "ERROR_1003=1\n",
    "prediction1=np.argmax(model.predict(\n",
    "    [[CPU_LOAD,MEMORY_LOAD,DELAY,\n",
    "      ERROR_1000,ERROR_1001,ERROR_1002,ERROR_1003]]), axis=1 )\n",
    "\n"
   ]
  },
  {
   "cell_type": "code",
   "execution_count": 217,
   "id": "b512b3b4-57e2-4e79-9424-818398cbe4fe",
   "metadata": {},
   "outputs": [
    {
     "data": {
      "text/plain": [
       "array([2], dtype=int64)"
      ]
     },
     "execution_count": 217,
     "metadata": {},
     "output_type": "execute_result"
    }
   ],
   "source": [
    "prediction1\n"
   ]
  },
  {
   "cell_type": "code",
   "execution_count": 220,
   "id": "4c249e5c-23f3-4ef7-bc74-7904aee4faee",
   "metadata": {},
   "outputs": [
    {
     "data": {
      "text/plain": [
       "array(['NETWORK_DELAY'], dtype=object)"
      ]
     },
     "execution_count": 220,
     "metadata": {},
     "output_type": "execute_result"
    }
   ],
   "source": [
    "labelencoder.inverse_transform(prediction1)\n"
   ]
  },
  {
   "cell_type": "code",
   "execution_count": 224,
   "id": "57c78548-6670-4eb5-8661-d1a9a89730c1",
   "metadata": {},
   "outputs": [
    {
     "name": "stdout",
     "output_type": "stream",
     "text": [
      "1/1 [==============================] - 0s 50ms/step\n"
     ]
    }
   ],
   "source": [
    "# prectiontion2\n",
    "\n",
    "CPU_LOAD=0\n",
    "MEMORY_LOAD=0\n",
    "DELAY=1\n",
    "ERROR_1000=0\n",
    "ERROR_1001=0\n",
    "ERROR_1002=1\n",
    "ERROR_1003=1\n",
    "\n",
    "\n",
    "CPU_LOAD=1\n",
    "MEMORY_LOAD=0\n",
    "DELAY=1\n",
    "ERROR_1000=1\n",
    "ERROR_1001=0\n",
    "ERROR_1002=1\n",
    "ERROR_1003=1\n",
    "\n",
    "CPU_LOAD=1\n",
    "MEMORY_LOAD=1\n",
    "DELAY=1\n",
    "ERROR_1000=1\n",
    "ERROR_1001=1\n",
    "ERROR_1002=1\n",
    "ERROR_1003=1\n",
    "\n",
    "prediction2=np.argmax(model.predict([[0,0,1,0,0,1,1],\n",
    "                                   [1,0,1,1,0,1,1],\n",
    "                                    [1,1,1,1,1,1,1]]), axis=1)"
   ]
  },
  {
   "cell_type": "code",
   "execution_count": 225,
   "id": "adc87a8d-f3d6-4e60-a016-9b525b7671eb",
   "metadata": {},
   "outputs": [
    {
     "data": {
      "text/plain": [
       "array([2, 2, 0], dtype=int64)"
      ]
     },
     "execution_count": 225,
     "metadata": {},
     "output_type": "execute_result"
    }
   ],
   "source": [
    "prediction2"
   ]
  },
  {
   "cell_type": "code",
   "execution_count": 226,
   "id": "91a0399c-aaf0-429d-932a-b39bd38d8fe8",
   "metadata": {},
   "outputs": [
    {
     "name": "stdout",
     "output_type": "stream",
     "text": [
      "['NETWORK_DELAY' 'NETWORK_DELAY' 'DATABASE_ISSUE']\n"
     ]
    }
   ],
   "source": [
    "print(labelencoder.inverse_transform(prediction2))"
   ]
  },
  {
   "cell_type": "code",
   "execution_count": null,
   "id": "ed628c6a-b881-4161-9609-1a068bcd638b",
   "metadata": {},
   "outputs": [],
   "source": []
  }
 ],
 "metadata": {
  "kernelspec": {
   "display_name": "Python 3 (ipykernel)",
   "language": "python",
   "name": "python3"
  },
  "language_info": {
   "codemirror_mode": {
    "name": "ipython",
    "version": 3
   },
   "file_extension": ".py",
   "mimetype": "text/x-python",
   "name": "python",
   "nbconvert_exporter": "python",
   "pygments_lexer": "ipython3",
   "version": "3.8.18"
  }
 },
 "nbformat": 4,
 "nbformat_minor": 5
}
